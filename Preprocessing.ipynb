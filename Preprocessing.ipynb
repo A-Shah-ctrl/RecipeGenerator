{
  "nbformat": 4,
  "nbformat_minor": 0,
  "metadata": {
    "colab": {
      "provenance": [],
      "gpuType": "T4"
    },
    "kernelspec": {
      "name": "python3",
      "display_name": "Python 3"
    },
    "language_info": {
      "name": "python"
    },
    "accelerator": "GPU"
  },
  "cells": [
    {
      "cell_type": "code",
      "source": [
        "from google.colab import drive\n",
        "drive.mount('/content/drive')\n"
      ],
      "metadata": {
        "colab": {
          "base_uri": "https://localhost:8080/"
        },
        "id": "LF9-8LOslLj6",
        "outputId": "b56a0f2c-ee01-47a1-9c62-32951d3dede9"
      },
      "execution_count": null,
      "outputs": [
        {
          "output_type": "stream",
          "name": "stdout",
          "text": [
            "Mounted at /content/drive\n"
          ]
        }
      ]
    },
    {
      "cell_type": "markdown",
      "source": [
        "# Data Cleaning and Pre-processing"
      ],
      "metadata": {
        "id": "AmAcLAmCe4M8"
      }
    },
    {
      "cell_type": "markdown",
      "source": [
        "All required library imports for cleaning and pre-processing"
      ],
      "metadata": {
        "id": "2CHpIf8vfPfZ"
      }
    },
    {
      "cell_type": "code",
      "source": [
        "import torch\n",
        "import numpy as np\n",
        "import matplotlib.pyplot as plt\n",
        "import json\n",
        "import pandas as pd\n",
        "import re\n",
        "import math\n",
        "import nltk\n",
        "from nltk.corpus import stopwords\n",
        "nltk.download('stopwords')"
      ],
      "metadata": {
        "id": "P5wVAy77fNpb",
        "colab": {
          "base_uri": "https://localhost:8080/"
        },
        "outputId": "48ae3760-7c48-45db-9f76-6ab563b4339c"
      },
      "execution_count": null,
      "outputs": [
        {
          "output_type": "stream",
          "name": "stderr",
          "text": [
            "[nltk_data] Downloading package stopwords to /root/nltk_data...\n",
            "[nltk_data]   Unzipping corpora/stopwords.zip.\n"
          ]
        },
        {
          "output_type": "execute_result",
          "data": {
            "text/plain": [
              "True"
            ]
          },
          "metadata": {},
          "execution_count": 2
        }
      ]
    },
    {
      "cell_type": "markdown",
      "source": [
        "Let's load the 3 JSON data files and combine them. We only need the three attributes: **'ingredients'** and **'instructions'**. The attributes 'picture_link' and 'title' are unnecessary for this task. We will remove any recipes that are missing any of the three attributes."
      ],
      "metadata": {
        "id": "g8rB4Fuo7edU"
      }
    },
    {
      "cell_type": "code",
      "source": [
        "# This function takes in a list of JSON files and merges the data\n",
        "# Returns a list of dictionaries\n",
        "def load_data(data_files,remove_attributes):\n",
        "  merged_data = []\n",
        "  for data_file in data_files:\n",
        "    with open(MOUNT + data_file) as data:\n",
        "      merged_data += list(json.load(data).values())\n",
        "\n",
        "  # Remove the unneccessary attributes\n",
        "  loaded_data = pd.DataFrame(merged_data).drop(columns=remove_attributes)\n",
        "  print(\"Rows in Original Dataset: \" + str(loaded_data.shape[0]))\n",
        "\n",
        "  # Remove any rows where any of the columns that have NA or empty values\n",
        "  loaded_data = loaded_data.replace('',np.nan).dropna()\n",
        "  print(\"Rows in Filtered Dataset: \" + str(loaded_data.shape[0]))\n",
        "\n",
        "  # Replace any numbers in the ingredients\n",
        "\n",
        "  return loaded_data.to_dict(orient='records')\n",
        "\n",
        "MOUNT =  \"/content/drive/MyDrive/recipes_raw/\"\n",
        "data_files = ['recipes_raw_nosource_ar.json','recipes_raw_nosource_epi.json','recipes_raw_nosource_fn.json']\n",
        "remove_attributes = ['picture_link', 'title']\n",
        "loaded_data = load_data(data_files, remove_attributes)"
      ],
      "metadata": {
        "colab": {
          "base_uri": "https://localhost:8080/"
        },
        "id": "4kTeOcyWgOmp",
        "outputId": "f38e7aec-bc56-45c8-a54b-dabcadf050d4"
      },
      "execution_count": null,
      "outputs": [
        {
          "output_type": "stream",
          "name": "stdout",
          "text": [
            "Rows in Original Dataset: 125164\n",
            "Rows in Filtered Dataset: 124450\n"
          ]
        }
      ]
    },
    {
      "cell_type": "markdown",
      "source": [
        "Let's remove any unneccessary noise from the data. On detailed investigation of the data it was found that some recipes have \"ADVERTISEMENT\" and \"SOURCE*\" show up in them. They aren't a part of the recipe. They exist in the data because the recipes were scraped from websites. These are likely html elements that weren't identifiable to be removed when the recipes were scraped. Let's also convert all the characters to lower case to reduce any form of bias.\n",
        "\n",
        "We will also remove any numbers or punctuation. We will be removing measurements from the ingredients and instructions because we dont want the model to predict any ingredient measurements. All stopwords should also be removed as their abundance in sentences can affect outcomes."
      ],
      "metadata": {
        "id": "NbNzMrXY6-9T"
      }
    },
    {
      "cell_type": "code",
      "source": [
        "def remove_noise(loaded_data, noise_regex, special_tags):\n",
        "    no_noise_data = []\n",
        "    set_stop_words = set(stopwords.words('english'))\n",
        "\n",
        "    for data in loaded_data:\n",
        "      for key, value in data.items():\n",
        "          if type(data[key]) is list:\n",
        "              data[key] = \",\".join(data[key])\n",
        "          data[key] = re.sub(r'[^A-Za-z\\s]','',data[key])\n",
        "          for noise in noise_regex:\n",
        "              data[key] = re.sub(noise, '', data[key])\n",
        "          data[key] = data[key].split()\n",
        "          str_data = \"\"\n",
        "          for word in data[key]:\n",
        "            if word.strip() not in set_stop_words and word.strip() not in measurements:\n",
        "                str_data += word.lower().strip(\" \") + \" \"\n",
        "          data[key] = str_data\n",
        "\n",
        "      no_noise_data.append((special_tags[\"begin\"] + \" \" + data[\"ingredients\"].strip(\" \").strip(\"\\n\") + \" \" +  special_tags[\"end\"],\n",
        "                            special_tags[\"begin\"] + \" \" + data[\"instructions\"].strip(\"\\n\") + \" \" +  special_tags[\"end\"]))\n",
        "    return no_noise_data\n",
        "\n",
        "noise_regex = [r'ADVERTISEMENT', r'\\bSOURCE\\b(.*)']\n",
        "measurements = ['tablespoons' , 'cups', 'teaspoons', 'tablespoon', 'tbsp', 'ounce', 'oz', 'cup', 'teaspoon', 'tsp', 'pound', 'lb', 'gram', 'kg', 'milliliter', 'ml', 'liter', 'l']\n",
        "special_tags = {\"unknown\": \"<unk>\",\"begin\": \"<bos>\", \"end\" : \"<eos>\", \"separate\": \"<sep>\", \"pad\": \"<pad>\", \"split\": \"<split>\"}\n",
        "noise_free_data = remove_noise(loaded_data, noise_regex, special_tags)\n"
      ],
      "metadata": {
        "id": "B0o0pfm7qt7G"
      },
      "execution_count": null,
      "outputs": []
    },
    {
      "cell_type": "code",
      "source": [
        "# Clear memory\n",
        "del[loaded_data]"
      ],
      "metadata": {
        "id": "n1YFhQyAQjuv"
      },
      "execution_count": null,
      "outputs": []
    },
    {
      "cell_type": "markdown",
      "source": [
        "Let's find the size of the largest recipe. Since we are using RNNs we dont want to make the sequence too long. To avoid running into the vanishing gradient problem. Lets find the overall distribution of the recipe lengths to figure out what the maximum length of our recipes should be and what recipes should be discarded."
      ],
      "metadata": {
        "id": "NM1DFmMR29rj"
      }
    },
    {
      "cell_type": "code",
      "source": [
        "max_seq_length_recipe = 0\n",
        "recipe_lengths = []\n",
        "\n",
        "for x, t in noise_free_data:\n",
        "    length = len(x) + len(t)\n",
        "    if length > max_seq_length_recipe:\n",
        "        max_seq_length_recipe = length\n",
        "    recipe_lengths.append(length)\n",
        "\n",
        "print(\"Maximum Sequence Length for Recipe: \", max_seq_length_recipe)\n",
        "\n",
        "print(\"Distribution of Recipe Lengths\")\n",
        "plt.hist(recipe_lengths, bins=100)\n",
        "plt.show()\n",
        "print(\"\\n\")\n",
        "\n",
        "recipes_65th = sorted(recipe_lengths)[math.ceil(len(recipe_lengths) * 0.65)]\n",
        "print(\"Length of 65th quartile of recipe lengths\", recipes_65th)\n"
      ],
      "metadata": {
        "colab": {
          "base_uri": "https://localhost:8080/",
          "height": 517
        },
        "id": "G4Y96Lh6wtvi",
        "outputId": "a28431d9-a1a1-4f4f-f97a-616a498e2880"
      },
      "execution_count": null,
      "outputs": [
        {
          "output_type": "stream",
          "name": "stdout",
          "text": [
            "Maximum Sequence Length for Recipe:  19219\n",
            "Distribution of Recipe Lengths\n"
          ]
        },
        {
          "output_type": "display_data",
          "data": {
            "text/plain": [
              "<Figure size 640x480 with 1 Axes>"
            ],
            "image/png": "[encoded data removed]"
          },
          "metadata": {}
        },
        {
          "output_type": "stream",
          "name": "stdout",
          "text": [
            "\n",
            "\n",
            "Length of 65th quartile of recipe lengths 957\n"
          ]
        }
      ]
    },
    {
      "cell_type": "markdown",
      "source": [
        "The 65th quartile has the length of 957. It should be okay to set MAX_SEQ_LENGTH_RECIPE to 957 words. Lets remove any recipes that dont have this."
      ],
      "metadata": {
        "id": "R1fyoKRt4n2r"
      }
    },
    {
      "cell_type": "code",
      "source": [
        "MAX_SEQ_LENGTH_RECIPE = 957\n",
        "\n",
        "def remove_large_recipes(data):\n",
        "    reasonable_size = []\n",
        "    ingredients_len = 0\n",
        "    instructions_len = 0\n",
        "    for x, t in data:\n",
        "          length_x = len(x)\n",
        "          length_t = len(t)\n",
        "          if (length_x + length_t) <= MAX_SEQ_LENGTH_RECIPE:\n",
        "                reasonable_size.append((x,t))\n",
        "    return reasonable_size\n",
        "\n",
        "\n",
        "reasonable_data = remove_large_recipes(noise_free_data)\n",
        "print(\"Length of the New Dataset: \", len(reasonable_data))"
      ],
      "metadata": {
        "colab": {
          "base_uri": "https://localhost:8080/"
        },
        "id": "UdvD5Q9V6N7T",
        "outputId": "0fbceec2-8f38-4450-e121-ab4dac25a036"
      },
      "execution_count": null,
      "outputs": [
        {
          "output_type": "stream",
          "name": "stdout",
          "text": [
            "Length of the New Dataset:  80898\n"
          ]
        }
      ]
    },
    {
      "cell_type": "code",
      "source": [
        "del[noise_free_data]"
      ],
      "metadata": {
        "id": "lOUDP5b2yBYr"
      },
      "execution_count": null,
      "outputs": []
    },
    {
      "cell_type": "markdown",
      "source": [
        "# Tokenizing the Data set"
      ],
      "metadata": {
        "id": "4GdB4N_lJt7a"
      }
    },
    {
      "cell_type": "markdown",
      "source": [
        "All required libraries"
      ],
      "metadata": {
        "id": "KBI9trH9KUD6"
      }
    },
    {
      "cell_type": "code",
      "source": [
        "import torchtext\n",
        "from torchtext.data.utils import get_tokenizer\n",
        "from torchtext.vocab import Vocab, build_vocab_from_iterator"
      ],
      "metadata": {
        "id": "ulRWCXafJ00E"
      },
      "execution_count": null,
      "outputs": []
    },
    {
      "cell_type": "markdown",
      "source": [
        "Let's tokenize the data set and make a vocabulary. Only include words that are common i.e. shows up 30 times at least"
      ],
      "metadata": {
        "id": "vDrpwFkkKWi6"
      }
    },
    {
      "cell_type": "code",
      "source": [
        "def make_vocabulary(data, special_tags):\n",
        "    unique_words = []\n",
        "    tokenized_data = []\n",
        "    tokenizer = get_tokenizer(\"basic_english\")\n",
        "    for x, t in data:\n",
        "        words_x = tokenizer(x)\n",
        "        words_t = tokenizer(t)\n",
        "        unique_words.append(words_x)\n",
        "        unique_words.append(words_t)\n",
        "        tokenized_data.append((words_x,words_t))\n",
        "    vocabulary = build_vocab_from_iterator(unique_words, specials=special_tags, min_freq=30)\n",
        "    print(\"Size of the vocabulary: \", len(vocabulary))\n",
        "    return vocabulary, tokenizer, tokenized_data\n",
        "\n",
        "def convert_numeric(data, vocabulary, tokenizer, unk):\n",
        "    numeric_data = []\n",
        "    max_len_x = 0\n",
        "    max_len_t = 0\n",
        "    vocab = vocabulary.get_stoi()\n",
        "    for x, t in data:\n",
        "        numeric_x = [vocab[token] if token in vocab.keys() else vocab[unk] for token in x]\n",
        "        numeric_t = [vocab[token] if token in vocab.keys() else vocab[unk] for token in t]\n",
        "        if len(numeric_x) > max_len_x:\n",
        "            max_len_x = len(numeric_x)\n",
        "        if len(numeric_t) > max_len_t:\n",
        "            max_len_t= len(numeric_t)\n",
        "        numeric_data.append((numeric_x,numeric_t))\n",
        "    return numeric_data, max_len_x, max_len_t\n",
        "\n",
        "\n",
        "vocabulary, tokenizer, tokenized_data = make_vocabulary(reasonable_data,list(special_tags.values()))\n",
        "numeric_data, max_len_x, max_len_t =  convert_numeric(tokenized_data, vocabulary, tokenizer, special_tags['unknown'])\n",
        "\n",
        "print(\"Maximum Sequence Length for Input: \", max_len_x)\n",
        "print(\"Maximum Sequence Length for Target: \", max_len_t)"
      ],
      "metadata": {
        "colab": {
          "base_uri": "https://localhost:8080/"
        },
        "id": "RvWNt7iOKXGs",
        "outputId": "6276e7bc-1592-4da9-ff4e-7145fda22cb1"
      },
      "execution_count": null,
      "outputs": [
        {
          "output_type": "stream",
          "name": "stdout",
          "text": [
            "Size of the vocabulary:  4413\n",
            "Maximum Sequence Length for Input:  106\n",
            "Maximum Sequence Length for Target:  148\n"
          ]
        }
      ]
    },
    {
      "cell_type": "markdown",
      "source": [
        "Let's pad the input and target sequences so they all have the same size"
      ],
      "metadata": {
        "id": "1YUKHy5YMajJ"
      }
    },
    {
      "cell_type": "code",
      "source": [
        "MAX_SEQ_LENGTH_INGREDIENTS = 106\n",
        "MAX_SEQ_LENGTH_INSTRUCTIONS = 148\n",
        "\n",
        "full_dataset = []\n",
        "pad_index = vocabulary.get_stoi()[special_tags['pad']]\n",
        "for x, t in numeric_data:\n",
        "    pads_x = [pad_index for i in range(MAX_SEQ_LENGTH_INGREDIENTS - len(x))]\n",
        "    pads_t = [pad_index for j in range(MAX_SEQ_LENGTH_INSTRUCTIONS - len(t))]\n",
        "    full_dataset.append((x + pads_x, t + pads_t))\n",
        "\n",
        "print(\"Number of Recipes in Full Data Set: \", len(full_dataset))\n",
        "print(\"Length of Input: \", len(full_dataset[54][0]))\n",
        "print(\"Length of Target: \", len(full_dataset[54][1]))"
      ],
      "metadata": {
        "id": "c-NqISHqQp6l",
        "colab": {
          "base_uri": "https://localhost:8080/"
        },
        "outputId": "0877f767-13ec-41ab-fdae-f8a441e83214"
      },
      "execution_count": null,
      "outputs": [
        {
          "output_type": "stream",
          "name": "stdout",
          "text": [
            "Number of Recipes in Full Data Set:  80898\n",
            "Length of Input:  106\n",
            "Length of Target:  148\n"
          ]
        }
      ]
    },
    {
      "cell_type": "markdown",
      "source": [
        "Now, let's split each recipe into input and target. We will be using the teacher forcing method for this. Then we will further divide the dataset into training, validation and training sets (60:20:20 divide)."
      ],
      "metadata": {
        "id": "yhPyRKJgIbXc"
      }
    },
    {
      "cell_type": "code",
      "source": [
        "percent_60 = math.floor(len(full_dataset) * 0.6)\n",
        "percent_20 = math.floor(len(full_dataset) * 0.2)\n",
        "\n",
        "train_data = full_dataset[ : percent_60]\n",
        "validation_data = full_dataset[percent_60 : percent_60 + percent_20]\n",
        "test_data = full_dataset[percent_60 + percent_20 :]\n",
        "\n",
        "print(\"Size of Training Set: \", len(train_data))\n",
        "print(\"Size of Validation Set: \", len(validation_data))\n",
        "print(\"Size of Test Set: \", len(test_data))"
      ],
      "metadata": {
        "colab": {
          "base_uri": "https://localhost:8080/"
        },
        "id": "QIa6eZjUKMjz",
        "outputId": "014b5797-86d8-47bd-f20d-924be951e4ca"
      },
      "execution_count": null,
      "outputs": [
        {
          "output_type": "stream",
          "name": "stdout",
          "text": [
            "Size of Training Set:  48538\n",
            "Size of Validation Set:  16179\n",
            "Size of Test Set:  16181\n"
          ]
        }
      ]
    },
    {
      "cell_type": "markdown",
      "source": [
        "**Example Tokenized Data**"
      ],
      "metadata": {
        "id": "AOM3fMwnJQzR"
      }
    },
    {
      "cell_type": "code",
      "source": [
        "print(\"Input: \")\n",
        "print(train_data[0][0])\n",
        "\n",
        "print(\"Target: \")\n",
        "print(train_data[0][1])"
      ],
      "metadata": {
        "colab": {
          "base_uri": "https://localhost:8080/"
        },
        "id": "qazZtYSoJW0Z",
        "outputId": "be414dee-fba7-4cd8-84a9-4f168e0b07d3"
      },
      "execution_count": null,
      "outputs": [
        {
          "output_type": "stream",
          "name": "stdout",
          "text": [
            "Input: \n",
            "[1, 473, 389, 38, 378, 363, 16, 370, 431, 30, 38, 182, 35, 108, 89, 651, 674, 1093, 115, 739, 112, 2, 4, 4, 4, 4, 4, 4, 4, 4, 4, 4, 4, 4, 4, 4, 4, 4, 4, 4, 4, 4, 4, 4, 4, 4, 4, 4, 4, 4, 4, 4, 4, 4, 4, 4, 4, 4, 4, 4, 4, 4, 4, 4, 4, 4, 4, 4, 4, 4, 4, 4, 4, 4, 4, 4, 4, 4, 4, 4, 4, 4, 4, 4, 4, 4, 4, 4, 4, 4, 4, 4, 4, 4, 4, 4, 4, 4, 4, 4, 4, 4, 4, 4, 4, 4]\n",
            "Target: \n",
            "[1, 28, 38, 16, 182, 35, 461, 480, 269, 292, 18, 59, 59, 20, 124, 151, 2140, 6, 94, 28, 739, 1093, 115, 461, 480, 20, 115, 415, 775, 186, 2, 4, 4, 4, 4, 4, 4, 4, 4, 4, 4, 4, 4, 4, 4, 4, 4, 4, 4, 4, 4, 4, 4, 4, 4, 4, 4, 4, 4, 4, 4, 4, 4, 4, 4, 4, 4, 4, 4, 4, 4, 4, 4, 4, 4, 4, 4, 4, 4, 4, 4, 4, 4, 4, 4, 4, 4, 4, 4, 4, 4, 4, 4, 4, 4, 4, 4, 4, 4, 4, 4, 4, 4, 4, 4, 4, 4, 4, 4, 4, 4, 4, 4, 4, 4, 4, 4, 4, 4, 4, 4, 4, 4, 4, 4, 4, 4, 4, 4, 4, 4, 4, 4, 4, 4, 4, 4, 4, 4, 4, 4, 4, 4, 4, 4, 4, 4, 4]\n"
          ]
        }
      ]
    },
    {
      "cell_type": "markdown",
      "source": [
        "# Storing the processed data for future use"
      ],
      "metadata": {
        "id": "pCFqFdrzJmio"
      }
    },
    {
      "cell_type": "markdown",
      "source": [
        "Let's pickle the processed train, validation and test data set so we dont have to keep processing it.\n",
        "\n",
        "Note: To make this code work please create a folder name \"recipes_processed\" in your Drive"
      ],
      "metadata": {
        "id": "nrj8SPQ3KisL"
      }
    },
    {
      "cell_type": "code",
      "source": [
        "import pickle\n",
        "\n",
        "STORED =  \"/content/drive/MyDrive/recipes_processed/\"\n",
        "\n",
        "# Storing\n",
        "with open(STORED + 'recipe_train_new.pkl', 'wb') as f:\n",
        "    pickle.dump(train_data, f)\n",
        "\n",
        "with open(STORED + 'recipe_validation_new.pkl', 'wb') as g:\n",
        "    pickle.dump(validation_data, g)\n",
        "\n",
        "with open(STORED + 'recipe_test_new.pkl', 'wb') as h:\n",
        "    pickle.dump(test_data, h)\n",
        "\n",
        "with open(STORED + 'recipe_vocab_new.pkl', 'wb') as i:\n",
        "    pickle.dump(vocabulary, i)\n",
        "\n",
        "with open(STORED + 'recipe_tokenizer_new.pkl', 'wb') as j:\n",
        "    pickle.dump(tokenizer, j)"
      ],
      "metadata": {
        "id": "H_gM9nbQJxWZ"
      },
      "execution_count": null,
      "outputs": []
    },
    {
      "cell_type": "markdown",
      "source": [
        "Here is the code to un-pickle these data sets"
      ],
      "metadata": {
        "id": "iqHVX2HmLKLZ"
      }
    },
    {
      "cell_type": "code",
      "source": [
        "with open(STORED + 'recipe_train_new.pkl', 'rb') as f:\n",
        "    train_data = pickle.load(f)\n",
        "\n",
        "with open(STORED + 'recipe_validation_new.pkl', 'rb') as g:\n",
        "    validation_data = pickle.load(g)\n",
        "\n",
        "with open(STORED + 'recipe_test_new.pkl', 'rb') as h:\n",
        "    test_data = pickle.load(h)\n",
        "\n",
        "with open(STORED + 'recipe_vocab_new.pkl', 'rb') as i:\n",
        "    vocabulary = pickle.load(i)\n",
        "\n",
        "with open(STORED + 'recipe_tokenizer_new.pkl', 'rb') as j:\n",
        "    tokenizer = pickle.load(j)"
      ],
      "metadata": {
        "id": "m_juJ4zdLQGR"
      },
      "execution_count": null,
      "outputs": []
    },
    {
      "cell_type": "markdown",
      "source": [
        "Let's visualize the un-pickled data"
      ],
      "metadata": {
        "id": "zG_Z3CsbLm70"
      }
    },
    {
      "cell_type": "code",
      "source": [
        "print(\"Input: \")\n",
        "print(train_data[0][0])\n",
        "\n",
        "print(\"Target: \")\n",
        "print(train_data[0][1])\n",
        "\n",
        "print(\"Vocabulary Length\")\n",
        "print(len(vocabulary))"
      ],
      "metadata": {
        "colab": {
          "base_uri": "https://localhost:8080/"
        },
        "id": "G0ZPndfgLqFz",
        "outputId": "43b9cfe8-60d9-4845-9505-aa312e09c991"
      },
      "execution_count": null,
      "outputs": [
        {
          "output_type": "stream",
          "name": "stdout",
          "text": [
            "Input: \n",
            "[1, 473, 389, 38, 378, 363, 16, 370, 431, 30, 38, 182, 35, 108, 89, 651, 674, 1093, 115, 739, 112, 2, 4, 4, 4, 4, 4, 4, 4, 4, 4, 4, 4, 4, 4, 4, 4, 4, 4, 4, 4, 4, 4, 4, 4, 4, 4, 4, 4, 4, 4, 4, 4, 4, 4, 4, 4, 4, 4, 4, 4, 4, 4, 4, 4, 4, 4, 4, 4, 4, 4, 4, 4, 4, 4, 4, 4, 4, 4, 4, 4, 4, 4, 4, 4, 4, 4, 4, 4, 4, 4, 4, 4, 4, 4, 4, 4, 4, 4, 4, 4, 4, 4, 4, 4, 4]\n",
            "Target: \n",
            "[1, 28, 38, 16, 182, 35, 461, 480, 269, 292, 18, 59, 59, 20, 124, 151, 2140, 6, 94, 28, 739, 1093, 115, 461, 480, 20, 115, 415, 775, 186, 2, 4, 4, 4, 4, 4, 4, 4, 4, 4, 4, 4, 4, 4, 4, 4, 4, 4, 4, 4, 4, 4, 4, 4, 4, 4, 4, 4, 4, 4, 4, 4, 4, 4, 4, 4, 4, 4, 4, 4, 4, 4, 4, 4, 4, 4, 4, 4, 4, 4, 4, 4, 4, 4, 4, 4, 4, 4, 4, 4, 4, 4, 4, 4, 4, 4, 4, 4, 4, 4, 4, 4, 4, 4, 4, 4, 4, 4, 4, 4, 4, 4, 4, 4, 4, 4, 4, 4, 4, 4, 4, 4, 4, 4, 4, 4, 4, 4, 4, 4, 4, 4, 4, 4, 4, 4, 4, 4, 4, 4, 4, 4, 4, 4, 4, 4, 4, 4]\n",
            "Vocabulary Length\n",
            "4413\n"
          ]
        }
      ]
    }
  ]
}